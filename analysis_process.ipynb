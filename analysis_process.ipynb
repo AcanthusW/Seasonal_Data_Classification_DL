{
 "cells": [
  {
   "cell_type": "code",
   "execution_count": 1,
   "id": "312427cc",
   "metadata": {},
   "outputs": [
    {
     "name": "stderr",
     "output_type": "stream",
     "text": [
      "2024-09-08 12:27:57.960400: I tensorflow/core/platform/cpu_feature_guard.cc:182] This TensorFlow binary is optimized to use available CPU instructions in performance-critical operations.\n",
      "To enable the following instructions: AVX2 AVX512F AVX512_VNNI FMA, in other operations, rebuild TensorFlow with the appropriate compiler flags.\n"
     ]
    }
   ],
   "source": [
    "import numpy as np\n",
    "import matplotlib.pyplot as plt\n",
    "import pandas as pd\n",
    "from sklearn import preprocessing\n",
    "from sklearn.metrics import classification_report, confusion_matrix\n",
    "from sklearn.model_selection import train_test_split  \n",
    "from keras.layers import *\n",
    "from keras.models import *\n",
    "from keras.optimizers import Adam\n",
    "from sklearn.utils import class_weight\n",
    "from keras.callbacks import ReduceLROnPlateau, EarlyStopping\n",
    "import seaborn as sns"
   ]
  },
  {
   "cell_type": "markdown",
   "id": "b3dc4746",
   "metadata": {},
   "source": [
    "# Define the model parameters (CNN + LSTM)"
   ]
  },
  {
   "cell_type": "code",
   "execution_count": 2,
   "id": "70467fcd",
   "metadata": {},
   "outputs": [],
   "source": [
    "window = 5  # Time window size for LSTM input\n",
    "lstm_units = 16  # Number of LSTM units\n",
    "dropout = 0.01  # Dropout rate to avoid overfitting\n",
    "epochs = 200  # Number of epochs for training\n"
   ]
  },
  {
   "cell_type": "markdown",
   "id": "30615ccc",
   "metadata": {},
   "source": [
    "# Load and preprocess data"
   ]
  },
  {
   "cell_type": "code",
   "execution_count": 3,
   "id": "11e341b4",
   "metadata": {},
   "outputs": [],
   "source": [
    "df1 = pd.read_csv('merged_data.csv')"
   ]
  },
  {
   "cell_type": "code",
   "execution_count": 4,
   "id": "57bc715b",
   "metadata": {},
   "outputs": [],
   "source": [
    "min_max_scaler = preprocessing.MinMaxScaler()  # Initialize MinMaxScaler for normalization\n",
    "df_scaled = min_max_scaler.fit_transform(df1)  # Scale data between 0 and 1\n",
    "df = pd.DataFrame(df_scaled, columns=df1.columns)"
   ]
  },
  {
   "cell_type": "markdown",
   "id": "7c5f730f",
   "metadata": {},
   "source": [
    "## prepare LSTM input sequences"
   ]
  },
  {
   "cell_type": "code",
   "execution_count": 5,
   "id": "e9461462",
   "metadata": {},
   "outputs": [],
   "source": [
    "seq_len = window  # Define the sequence length\n",
    "data = df.values  # Extract values from the DataFrame\n",
    "sequence_length = seq_len + 1  # Sequence length + 1 to include the current step\n",
    "result = []"
   ]
  },
  {
   "cell_type": "code",
   "execution_count": 6,
   "id": "8ff5296d",
   "metadata": {},
   "outputs": [],
   "source": [
    "for index in range(len(data) - sequence_length):  \n",
    "    result.append(data[index: index + sequence_length]) # Create a sliding window of sequences\n",
    "result = np.array(result)  # Convert list to NumPy array\n"
   ]
  },
  {
   "cell_type": "markdown",
   "id": "8ffee20e",
   "metadata": {},
   "source": [
    "# Split the data into training and test sets"
   ]
  },
  {
   "cell_type": "code",
   "execution_count": 7,
   "id": "9e9a3a3b",
   "metadata": {},
   "outputs": [],
   "source": [
    "X = result[:, :-1]  # Input sequences\n",
    "y = result[:, -1][:, -1]  # Target labels (last value of each sequence)\n"
   ]
  },
  {
   "cell_type": "code",
   "execution_count": 8,
   "id": "71ef7661",
   "metadata": {},
   "outputs": [],
   "source": [
    "X_train, X_test, y_train, y_test = train_test_split(X, y, test_size=0.2, shuffle=False)  # 80%训练集，20%测试集\n"
   ]
  },
  {
   "cell_type": "markdown",
   "id": "51ef5d8c",
   "metadata": {},
   "source": [
    "## reshape data to match LSTM input requirements"
   ]
  },
  {
   "cell_type": "code",
   "execution_count": 9,
   "id": "88cc0aa2",
   "metadata": {},
   "outputs": [],
   "source": [
    "amount_of_features = X.shape[2]"
   ]
  },
  {
   "cell_type": "code",
   "execution_count": 10,
   "id": "f69c938b",
   "metadata": {},
   "outputs": [],
   "source": [
    "X_train = np.reshape(X_train, (X_train.shape[0], X_train.shape[1], amount_of_features))\n",
    "X_test = np.reshape(X_test, (X_test.shape[0], X_test.shape[1], amount_of_features))\n"
   ]
  },
  {
   "cell_type": "markdown",
   "id": "92d856f1",
   "metadata": {},
   "source": [
    "## handle class imbalance by computing class weights"
   ]
  },
  {
   "cell_type": "code",
   "execution_count": 11,
   "id": "c1f3ba7e",
   "metadata": {},
   "outputs": [],
   "source": [
    "class_weights = class_weight.compute_class_weight('balanced', classes=np.unique(y_train), y=y_train)\n",
    "class_weight_dict = {0: class_weights[0], 1: class_weights[1]}"
   ]
  },
  {
   "cell_type": "markdown",
   "id": "3096fd1e",
   "metadata": {},
   "source": [
    "# Build the CNN + LSTM + Attention model"
   ]
  },
  {
   "cell_type": "code",
   "execution_count": 12,
   "id": "f0ff5f82",
   "metadata": {},
   "outputs": [],
   "source": [
    "# input layer\n",
    "inputs = Input(shape=(window, amount_of_features))\n",
    "\n",
    "# CNN\n",
    "x = Conv1D(filters=lstm_units, kernel_size=1, activation='sigmoid')(inputs)  # MaxPooling layer\n",
    "x = MaxPooling1D(pool_size=window)(x)  # MaxPooling layer\n",
    "x = Dropout(dropout)(x)  # Dropout layer\n",
    "\n",
    "# LSTM \n",
    "x = Bidirectional(LSTM(lstm_units, activation='tanh'))(x)  # bi-directional LSTM layer\n",
    "\n",
    "# Attention\n",
    "attention = Dense(lstm_units * 2, activation='sigmoid')(x)  # attention mechanism\n",
    "x = Multiply()([x, attention])  # attention weighting\n",
    "\n",
    "# Output\n",
    "outputs = Dense(1, activation='tanh')(x)"
   ]
  },
  {
   "cell_type": "code",
   "execution_count": 13,
   "id": "719d2c82",
   "metadata": {},
   "outputs": [],
   "source": [
    "model = Model(inputs=inputs, outputs=outputs)"
   ]
  },
  {
   "cell_type": "code",
   "execution_count": 14,
   "id": "b2ef29f8",
   "metadata": {},
   "outputs": [],
   "source": [
    "# compile the model\n",
    "model.compile(loss='mse', optimizer=Adam(), metrics=['accuracy'])"
   ]
  },
  {
   "cell_type": "code",
   "execution_count": 15,
   "id": "222708bc",
   "metadata": {},
   "outputs": [
    {
     "name": "stdout",
     "output_type": "stream",
     "text": [
      "Model: \"model\"\n",
      "__________________________________________________________________________________________________\n",
      " Layer (type)                Output Shape                 Param #   Connected to                  \n",
      "==================================================================================================\n",
      " input_1 (InputLayer)        [(None, 5, 14)]              0         []                            \n",
      "                                                                                                  \n",
      " conv1d (Conv1D)             (None, 5, 16)                240       ['input_1[0][0]']             \n",
      "                                                                                                  \n",
      " max_pooling1d (MaxPooling1  (None, 1, 16)                0         ['conv1d[0][0]']              \n",
      " D)                                                                                               \n",
      "                                                                                                  \n",
      " dropout (Dropout)           (None, 1, 16)                0         ['max_pooling1d[0][0]']       \n",
      "                                                                                                  \n",
      " bidirectional (Bidirection  (None, 32)                   4224      ['dropout[0][0]']             \n",
      " al)                                                                                              \n",
      "                                                                                                  \n",
      " dense (Dense)               (None, 32)                   1056      ['bidirectional[0][0]']       \n",
      "                                                                                                  \n",
      " multiply (Multiply)         (None, 32)                   0         ['bidirectional[0][0]',       \n",
      "                                                                     'dense[0][0]']               \n",
      "                                                                                                  \n",
      " dense_1 (Dense)             (None, 1)                    33        ['multiply[0][0]']            \n",
      "                                                                                                  \n",
      "==================================================================================================\n",
      "Total params: 5553 (21.69 KB)\n",
      "Trainable params: 5553 (21.69 KB)\n",
      "Non-trainable params: 0 (0.00 Byte)\n",
      "__________________________________________________________________________________________________\n"
     ]
    }
   ],
   "source": [
    "# print model structures\n",
    "model.summary()\n"
   ]
  },
  {
   "cell_type": "markdown",
   "id": "63b02028",
   "metadata": {},
   "source": [
    "# Train and evaluate"
   ]
  },
  {
   "cell_type": "code",
   "execution_count": 16,
   "id": "2b9cdfaf",
   "metadata": {},
   "outputs": [],
   "source": [
    "# define learning rate reduction and early stopping callbacks\n",
    "lr_reduction = ReduceLROnPlateau(monitor='val_loss', patience=3, factor=0.2, min_lr=0.00001)\n",
    "early_stopping = EarlyStopping(monitor='val_loss', patience=10, restore_best_weights=True)\n"
   ]
  },
  {
   "cell_type": "markdown",
   "id": "77b88926",
   "metadata": {},
   "source": [
    "## train the model"
   ]
  },
  {
   "cell_type": "code",
   "execution_count": 17,
   "id": "610e990e",
   "metadata": {},
   "outputs": [
    {
     "name": "stdout",
     "output_type": "stream",
     "text": [
      "Epoch 1/200\n",
      "2901/2901 [==============================] - 66s 21ms/step - loss: 0.0630 - accuracy: 0.9273 - val_loss: 0.0212 - val_accuracy: 0.9768 - lr: 0.0010\n",
      "Epoch 2/200\n",
      "2901/2901 [==============================] - 67s 23ms/step - loss: 0.0214 - accuracy: 0.9765 - val_loss: 0.0200 - val_accuracy: 0.9771 - lr: 0.0010\n",
      "Epoch 3/200\n",
      "2901/2901 [==============================] - 60s 21ms/step - loss: 0.0194 - accuracy: 0.9767 - val_loss: 0.0187 - val_accuracy: 0.9791 - lr: 0.0010\n",
      "Epoch 4/200\n",
      "2901/2901 [==============================] - 71s 24ms/step - loss: 0.0178 - accuracy: 0.9776 - val_loss: 0.0175 - val_accuracy: 0.9806 - lr: 0.0010\n",
      "Epoch 5/200\n",
      "2901/2901 [==============================] - 55s 19ms/step - loss: 0.0169 - accuracy: 0.9786 - val_loss: 0.0168 - val_accuracy: 0.9810 - lr: 0.0010\n",
      "Epoch 6/200\n",
      "2901/2901 [==============================] - 56s 19ms/step - loss: 0.0163 - accuracy: 0.9790 - val_loss: 0.0162 - val_accuracy: 0.9798 - lr: 0.0010\n",
      "Epoch 7/200\n",
      "2901/2901 [==============================] - 51s 18ms/step - loss: 0.0156 - accuracy: 0.9791 - val_loss: 0.0149 - val_accuracy: 0.9804 - lr: 0.0010\n",
      "Epoch 8/200\n",
      "2901/2901 [==============================] - 49s 17ms/step - loss: 0.0149 - accuracy: 0.9791 - val_loss: 0.0141 - val_accuracy: 0.9799 - lr: 0.0010\n",
      "Epoch 9/200\n",
      "2901/2901 [==============================] - 49s 17ms/step - loss: 0.0143 - accuracy: 0.9791 - val_loss: 0.0134 - val_accuracy: 0.9802 - lr: 0.0010\n",
      "Epoch 10/200\n",
      "2901/2901 [==============================] - 54s 19ms/step - loss: 0.0138 - accuracy: 0.9795 - val_loss: 0.0127 - val_accuracy: 0.9814 - lr: 0.0010\n",
      "Epoch 11/200\n",
      "2901/2901 [==============================] - 61s 21ms/step - loss: 0.0134 - accuracy: 0.9800 - val_loss: 0.0122 - val_accuracy: 0.9817 - lr: 0.0010\n",
      "Epoch 12/200\n",
      "2901/2901 [==============================] - 66s 23ms/step - loss: 0.0129 - accuracy: 0.9806 - val_loss: 0.0117 - val_accuracy: 0.9817 - lr: 0.0010\n",
      "Epoch 13/200\n",
      "2901/2901 [==============================] - 64s 22ms/step - loss: 0.0126 - accuracy: 0.9812 - val_loss: 0.0114 - val_accuracy: 0.9822 - lr: 0.0010\n",
      "Epoch 14/200\n",
      "2901/2901 [==============================] - 61s 21ms/step - loss: 0.0124 - accuracy: 0.9815 - val_loss: 0.0113 - val_accuracy: 0.9822 - lr: 0.0010\n",
      "Epoch 15/200\n",
      "2901/2901 [==============================] - 58s 20ms/step - loss: 0.0122 - accuracy: 0.9817 - val_loss: 0.0111 - val_accuracy: 0.9827 - lr: 0.0010\n",
      "Epoch 16/200\n",
      "2901/2901 [==============================] - 55s 19ms/step - loss: 0.0121 - accuracy: 0.9820 - val_loss: 0.0110 - val_accuracy: 0.9829 - lr: 0.0010\n",
      "Epoch 17/200\n",
      "2901/2901 [==============================] - 55s 19ms/step - loss: 0.0120 - accuracy: 0.9822 - val_loss: 0.0110 - val_accuracy: 0.9828 - lr: 0.0010\n",
      "Epoch 18/200\n",
      "2901/2901 [==============================] - 50s 17ms/step - loss: 0.0119 - accuracy: 0.9825 - val_loss: 0.0109 - val_accuracy: 0.9829 - lr: 0.0010\n",
      "Epoch 19/200\n",
      "2901/2901 [==============================] - 53s 18ms/step - loss: 0.0118 - accuracy: 0.9827 - val_loss: 0.0109 - val_accuracy: 0.9830 - lr: 0.0010\n",
      "Epoch 20/200\n",
      "2901/2901 [==============================] - 49s 17ms/step - loss: 0.0117 - accuracy: 0.9827 - val_loss: 0.0107 - val_accuracy: 0.9831 - lr: 0.0010\n",
      "Epoch 21/200\n",
      "2901/2901 [==============================] - 50s 17ms/step - loss: 0.0116 - accuracy: 0.9829 - val_loss: 0.0108 - val_accuracy: 0.9830 - lr: 0.0010\n",
      "Epoch 22/200\n",
      "2901/2901 [==============================] - 50s 17ms/step - loss: 0.0116 - accuracy: 0.9830 - val_loss: 0.0106 - val_accuracy: 0.9832 - lr: 0.0010\n",
      "Epoch 23/200\n",
      "2901/2901 [==============================] - 58s 20ms/step - loss: 0.0115 - accuracy: 0.9831 - val_loss: 0.0106 - val_accuracy: 0.9831 - lr: 0.0010\n",
      "Epoch 24/200\n",
      "2901/2901 [==============================] - 47s 16ms/step - loss: 0.0115 - accuracy: 0.9832 - val_loss: 0.0122 - val_accuracy: 0.9830 - lr: 0.0010\n",
      "Epoch 25/200\n",
      "2901/2901 [==============================] - 55s 19ms/step - loss: 0.0114 - accuracy: 0.9833 - val_loss: 0.0114 - val_accuracy: 0.9830 - lr: 0.0010\n",
      "Epoch 26/200\n",
      "2901/2901 [==============================] - 56s 19ms/step - loss: 0.0111 - accuracy: 0.9833 - val_loss: 0.0107 - val_accuracy: 0.9841 - lr: 2.0000e-04\n",
      "Epoch 27/200\n",
      "2901/2901 [==============================] - 53s 18ms/step - loss: 0.0110 - accuracy: 0.9835 - val_loss: 0.0106 - val_accuracy: 0.9843 - lr: 2.0000e-04\n",
      "Epoch 28/200\n",
      "2901/2901 [==============================] - 52s 18ms/step - loss: 0.0110 - accuracy: 0.9836 - val_loss: 0.0106 - val_accuracy: 0.9843 - lr: 2.0000e-04\n",
      "Epoch 29/200\n",
      "2901/2901 [==============================] - 48s 17ms/step - loss: 0.0110 - accuracy: 0.9835 - val_loss: 0.0103 - val_accuracy: 0.9835 - lr: 4.0000e-05\n",
      "Epoch 30/200\n",
      "2901/2901 [==============================] - 49s 17ms/step - loss: 0.0110 - accuracy: 0.9835 - val_loss: 0.0103 - val_accuracy: 0.9834 - lr: 4.0000e-05\n",
      "Epoch 31/200\n",
      "2901/2901 [==============================] - 47s 16ms/step - loss: 0.0110 - accuracy: 0.9835 - val_loss: 0.0103 - val_accuracy: 0.9834 - lr: 4.0000e-05\n",
      "Epoch 32/200\n",
      "2901/2901 [==============================] - 45s 16ms/step - loss: 0.0110 - accuracy: 0.9836 - val_loss: 0.0103 - val_accuracy: 0.9834 - lr: 4.0000e-05\n",
      "Epoch 33/200\n",
      "2901/2901 [==============================] - 48s 16ms/step - loss: 0.0110 - accuracy: 0.9834 - val_loss: 0.0102 - val_accuracy: 0.9834 - lr: 1.0000e-05\n",
      "Epoch 34/200\n",
      "2901/2901 [==============================] - 47s 16ms/step - loss: 0.0110 - accuracy: 0.9835 - val_loss: 0.0102 - val_accuracy: 0.9835 - lr: 1.0000e-05\n",
      "Epoch 35/200\n",
      "2901/2901 [==============================] - 46s 16ms/step - loss: 0.0110 - accuracy: 0.9835 - val_loss: 0.0102 - val_accuracy: 0.9834 - lr: 1.0000e-05\n",
      "Epoch 36/200\n",
      "2901/2901 [==============================] - 53s 18ms/step - loss: 0.0110 - accuracy: 0.9834 - val_loss: 0.0102 - val_accuracy: 0.9835 - lr: 1.0000e-05\n",
      "Epoch 37/200\n",
      "2901/2901 [==============================] - 51s 18ms/step - loss: 0.0110 - accuracy: 0.9835 - val_loss: 0.0102 - val_accuracy: 0.9835 - lr: 1.0000e-05\n",
      "Epoch 38/200\n",
      "2901/2901 [==============================] - 46s 16ms/step - loss: 0.0110 - accuracy: 0.9835 - val_loss: 0.0102 - val_accuracy: 0.9835 - lr: 1.0000e-05\n",
      "Epoch 39/200\n",
      "2901/2901 [==============================] - 48s 16ms/step - loss: 0.0110 - accuracy: 0.9835 - val_loss: 0.0102 - val_accuracy: 0.9835 - lr: 1.0000e-05\n",
      "Epoch 40/200\n",
      "2901/2901 [==============================] - 43s 15ms/step - loss: 0.0110 - accuracy: 0.9835 - val_loss: 0.0102 - val_accuracy: 0.9834 - lr: 1.0000e-05\n",
      "Epoch 41/200\n",
      "2901/2901 [==============================] - 51s 18ms/step - loss: 0.0110 - accuracy: 0.9835 - val_loss: 0.0102 - val_accuracy: 0.9834 - lr: 1.0000e-05\n",
      "Epoch 42/200\n",
      "2901/2901 [==============================] - 55s 19ms/step - loss: 0.0110 - accuracy: 0.9835 - val_loss: 0.0102 - val_accuracy: 0.9835 - lr: 1.0000e-05\n",
      "Epoch 43/200\n",
      "2901/2901 [==============================] - 54s 19ms/step - loss: 0.0110 - accuracy: 0.9835 - val_loss: 0.0102 - val_accuracy: 0.9835 - lr: 1.0000e-05\n",
      "Epoch 44/200\n",
      "2901/2901 [==============================] - 50s 17ms/step - loss: 0.0110 - accuracy: 0.9835 - val_loss: 0.0102 - val_accuracy: 0.9835 - lr: 1.0000e-05\n"
     ]
    }
   ],
   "source": [
    "history = model.fit(X_train, y_train, epochs=epochs, batch_size=1000, shuffle=False,\n",
    "                    validation_data=(X_test, y_test), class_weight=class_weight_dict,\n",
    "                    callbacks=[lr_reduction, early_stopping])\n"
   ]
  },
  {
   "cell_type": "markdown",
   "id": "33a647c4",
   "metadata": {},
   "source": [
    "## evaluate the model"
   ]
  },
  {
   "cell_type": "code",
   "execution_count": 18,
   "id": "475b1179",
   "metadata": {},
   "outputs": [
    {
     "name": "stdout",
     "output_type": "stream",
     "text": [
      "22661/22661 [==============================] - 32s 1ms/step - loss: 0.0102 - accuracy: 0.9835\n",
      "Test Accuracy: 0.9835\n"
     ]
    }
   ],
   "source": [
    "loss, accuracy = model.evaluate(X_test, y_test)\n",
    "print(f'Test Accuracy: {accuracy:.4f}')"
   ]
  },
  {
   "cell_type": "markdown",
   "id": "85941343",
   "metadata": {},
   "source": [
    "## save results"
   ]
  },
  {
   "cell_type": "code",
   "execution_count": 25,
   "id": "8893a826",
   "metadata": {},
   "outputs": [
    {
     "name": "stdout",
     "output_type": "stream",
     "text": [
      "'cnn_lstm_attention_model.keras' Saved!\n"
     ]
    }
   ],
   "source": [
    "model.save('cnn_lstm_attention_model.keras')\n",
    "print(\"'cnn_lstm_attention_model.keras' Saved!\")"
   ]
  },
  {
   "cell_type": "markdown",
   "id": "b0fe4e2d",
   "metadata": {},
   "source": [
    "# Visualiza model performance"
   ]
  },
  {
   "cell_type": "markdown",
   "id": "373403df",
   "metadata": {},
   "source": [
    "## training and validation loss curves"
   ]
  },
  {
   "cell_type": "code",
   "execution_count": 20,
   "id": "30568f0d",
   "metadata": {},
   "outputs": [
    {
     "data": {
      "image/png": "[encoded data removed]",
      "text/plain": [
       "<Figure size 640x480 with 1 Axes>"
      ]
     },
     "metadata": {},
     "output_type": "display_data"
    }
   ],
   "source": [
    "plt.plot(history.history['loss'], label='Training Loss')\n",
    "plt.plot(history.history['val_loss'], label='Validation Loss')\n",
    "plt.title('Training and Validation Loss')\n",
    "plt.xlabel('Epochs')\n",
    "plt.ylabel('Loss')\n",
    "plt.legend()\n",
    "\n",
    "plt.savefig('loss.png')\n",
    "plt.show()"
   ]
  },
  {
   "cell_type": "markdown",
   "id": "8dde57f4",
   "metadata": {},
   "source": [
    "## training and validation loss curves"
   ]
  },
  {
   "cell_type": "code",
   "execution_count": 21,
   "id": "c32ea6a7",
   "metadata": {},
   "outputs": [
    {
     "data": {
      "image/png": "[encoded data removed]",
      "text/plain": [
       "<Figure size 640x480 with 1 Axes>"
      ]
     },
     "metadata": {},
     "output_type": "display_data"
    }
   ],
   "source": [
    "plt.plot(history.history['accuracy'], label='Training Accuracy')\n",
    "plt.plot(history.history['val_accuracy'], label='Validation Accuracy')\n",
    "plt.title('Training and Validation Accuracy')\n",
    "plt.xlabel('Epochs')\n",
    "plt.ylabel('Accuracy')\n",
    "plt.legend()\n",
    "\n",
    "plt.savefig('accuracy.png')\n",
    "plt.show()"
   ]
  },
  {
   "cell_type": "markdown",
   "id": "d9a26ac6",
   "metadata": {},
   "source": [
    "## generate predictions"
   ]
  },
  {
   "cell_type": "code",
   "execution_count": 22,
   "id": "3b43d6c2",
   "metadata": {},
   "outputs": [
    {
     "name": "stdout",
     "output_type": "stream",
     "text": [
      "22661/22661 [==============================] - 34s 1ms/step\n"
     ]
    }
   ],
   "source": [
    "y_pred = (model.predict(X_test) > 0.5).astype(\"int32\")"
   ]
  },
  {
   "cell_type": "markdown",
   "id": "434b8549",
   "metadata": {},
   "source": [
    "## classification report"
   ]
  },
  {
   "cell_type": "code",
   "execution_count": 23,
   "id": "59b6240f",
   "metadata": {},
   "outputs": [
    {
     "name": "stdout",
     "output_type": "stream",
     "text": [
      "Classification Report:\n",
      "              precision    recall  f1-score   support\n",
      "\n",
      "         0.0       0.99      0.99      0.99    418735\n",
      "         1.0       0.98      0.98      0.98    306396\n",
      "\n",
      "    accuracy                           0.98    725131\n",
      "   macro avg       0.98      0.98      0.98    725131\n",
      "weighted avg       0.98      0.98      0.98    725131\n",
      "\n"
     ]
    }
   ],
   "source": [
    "print(\"Classification Report:\")\n",
    "print(classification_report(y_test, y_pred))"
   ]
  },
  {
   "cell_type": "markdown",
   "id": "4f0c3d88",
   "metadata": {},
   "source": [
    "## plot confusion matrix"
   ]
  },
  {
   "cell_type": "code",
   "execution_count": 24,
   "id": "be489121",
   "metadata": {},
   "outputs": [
    {
     "data": {
      "image/png": "[encoded data removed]",
      "text/plain": [
       "<Figure size 600x600 with 1 Axes>"
      ]
     },
     "metadata": {},
     "output_type": "display_data"
    }
   ],
   "source": [
    "cm = confusion_matrix(y_test, y_pred)\n",
    "plt.figure(figsize=(6, 6))\n",
    "sns.heatmap(cm, annot=True, fmt=\"d\", cmap=\"Blues\", cbar=False)\n",
    "plt.title('Confusion Matrix')\n",
    "plt.ylabel('True Label')\n",
    "plt.xlabel('Predicted Label')\n",
    "\n",
    "plt.savefig('confusion.png')\n",
    "plt.show()"
   ]
  },
  {
   "cell_type": "code",
   "execution_count": null,
   "id": "baf7f027",
   "metadata": {},
   "outputs": [],
   "source": []
  },
  {
   "cell_type": "code",
   "execution_count": null,
   "id": "6612c2e9",
   "metadata": {},
   "outputs": [],
   "source": []
  }
 ],
 "metadata": {
  "kernelspec": {
   "display_name": "Python 3 (ipykernel)",
   "language": "python",
   "name": "python3"
  },
  "language_info": {
   "codemirror_mode": {
    "name": "ipython",
    "version": 3
   },
   "file_extension": ".py",
   "mimetype": "text/x-python",
   "name": "python",
   "nbconvert_exporter": "python",
   "pygments_lexer": "ipython3",
   "version": "3.8.3"
  },
  "toc": {
   "base_numbering": 1,
   "nav_menu": {},
   "number_sections": true,
   "sideBar": true,
   "skip_h1_title": false,
   "title_cell": "Table of Contents",
   "title_sidebar": "Contents",
   "toc_cell": false,
   "toc_position": {},
   "toc_section_display": true,
   "toc_window_display": true
  }
 },
 "nbformat": 4,
 "nbformat_minor": 5
}
